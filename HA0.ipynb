{
 "cells": [
  {
   "cell_type": "markdown",
   "metadata": {},
   "source": [
    "# Hausaufgabe 0\n",
    "## Vorstellung der Gruppe\n",
    "<!-- Lizensiert unter (CC BY 4.0) Gert Herold -->\n",
    "\n",
    "Diese Hausaufgabe dient dem Kennenlernen der Gruppenmitglieder und der Programmierumgebung.\n",
    "Für alle zukünftigen Hausaufgaben (ab HA 1) buchen Sie bitte einen interaktiven Besprechungstermin mit einer Lehrperson.\n",
    "Die Abgabe *aller* Hausaufgaben geschieht in Form einer \\*.ipynb-Datei (wie dieser hier) über das ISIS-Portal.\n",
    "\n",
    "***\n",
    "Die Abgabefrist dieser HA ist **Mittwoch, der 23.10.2024**.\n",
    "***\n",
    "\n",
    "Falls Sie nicht rechtzeitig vor Abgabe Kontakt zu Ihrem zweiten Gruppenmitglied herstellen konnten, verwenden Sie für ein imaginäres Gruppenmitglied unten folgende Daten: \n",
    " - Name: Margaret Hamilton, Matrikelnr.: 170836, E-Mail: `margaret.hamilton.11@campus.tu-berlin.de`, Studiengang: Mathematik B.Sc.\n",
    "\n",
    "\n",
    "**1) Ergänzen Sie die Tabelle in der folgenden Markdown-Zelle mit Ihren Daten.** Ändern Sie außerdem den Namen dieser Datei, sodass er Ihre Gruppennummer enthält."
   ]
  },
  {
   "cell_type": "markdown",
   "metadata": {},
   "source": [
    "**Gruppe: ???**\n",
    "\n",
    "| Name      | Matrikelnr. | TUB E-Mail| Studiengang (+BSc/MSc?) |\n",
    "|-----------|-------------|-|-|\n",
    "| Mensch 1  | ??????  | ??@campus.tu-berlin.de| ??? |\n",
    "| Mensch 2  | ??????  | ??@campus.tu-berlin.de| ??? |"
   ]
  },
  {
   "cell_type": "markdown",
   "metadata": {},
   "source": [
    "**2) Unter der Annahme, dass sich pro Semester durchschnittlich 2000 Studenten an der TU Berlin immatrikulieren, die eine neue (fortlaufende) Matrikelnummer zugewiesen bekommen: Wieviel Zeit $\\Delta t$ ist ungefähr zwischen der Einschreibung der beiden Teilnehmer Ihrer Gruppe vergangen?**\n",
    "Gehen Sie (ungeachtet der Realität) davon aus, dass sich die Einschreibungen gleichmäßig über ein Semester verteilen und nutzen Sie die folgende Zelle für die Berechnung."
   ]
  },
  {
   "cell_type": "code",
   "execution_count": 52,
   "metadata": {
    "tags": []
   },
   "outputs": [
    {
     "name": "stdout",
     "output_type": "stream",
     "text": [
      "Hey py Team. Wir sind Ciara und Felix\n",
      "Ciara Stetter (Matrikelnummer: 510789)\n",
      "Felix Fechner (Matrikelnummer: 407670)\n",
      "Wir sind 103119 Studenten auseinander\n",
      "Zwischen unserer Immatrikulation liegen anscheinend 25 Jahre, 9 Monate und 10 Tage.\n"
     ]
    }
   ],
   "source": [
    "class Student:\n",
    "    def __init__(self, vorname, nachname, matrikelnummer):\n",
    "        # Initialisiere die Attribute der Klasse\n",
    "        self.vorname = vorname\n",
    "        self.nachname = nachname\n",
    "        self.name = vorname + \" \" + nachname   # mal ein leerzeicheneinfügen \n",
    "\n",
    "        # Versuche, die Matrikelnummer in einen Integer zu konvertieren\n",
    "        try:\n",
    "            self.matrikelnummer = int(matrikelnummer)\n",
    "        except ValueError:\n",
    "            raise ValueError(\"Die Matrikelnummer muss eine Zahl sein.\")\n",
    "    \n",
    "    def student_info(self):\n",
    "        # Gibt die Informationen über den Studenten zurück\n",
    "        return f\"Student: {self.vorname} {self.nachname}, Matrikelnummer: {self.matrikelnummer}\"\n",
    "    \n",
    "    def __str__(self):\n",
    "        # Diese Methode sorgt dafür, dass der Student als String dargestellt wird\n",
    "        return f\"{self.vorname} {self.nachname} (Matrikelnummer: {self.matrikelnummer})\"\n",
    "\n",
    "\n",
    "# Beispiel für die Verwendung der Klasse\n",
    "student1 = Student(\"Ciara\", \"Stetter\", \"510789\")\n",
    "student2 = Student(\"Felix\", \"Fechner\", \"407670\")\n",
    "\n",
    "\n",
    "def jahre_in_jahre_monate_tage(jahres_float):\n",
    "    # Teile die Jahreszahl in volle Jahre, Monate und Tage auf\n",
    "    jahre = int(jahres_float)\n",
    "    rest_jahre = jahres_float - jahre\n",
    "    \n",
    "    monate = int(rest_jahre * 12)\n",
    "    rest_monate = rest_jahre * 12 - monate\n",
    "    \n",
    "    tage = int(rest_monate * 30.44)  # Annahme: durchschnittlich 30.44 Tage pro Monat\n",
    "    \n",
    "    return [jahre, monate, tage]\n",
    "\n",
    "\n",
    "# Berechnung des Unterschieds in den Matrikelnummern und der entsprechenden Zeitdifferenz\n",
    "studipS=2000\n",
    "delstudi = abs(student1.matrikelnummer - student2.matrikelnummer)\n",
    "jahres_float = delstudi / studipS *6 /12\n",
    "\n",
    "\n",
    "#2000 studis pro semester \n",
    "#xy delstudis \n",
    "# delt = \n",
    "print('Hey py Team. Wir sind Ciara und Felix')\n",
    "print(student1)  # Nutzt die __str__ Methode um die objekt attribute auszugeben\n",
    "print(student2)\n",
    "print('Wir sind '+ str(delstudi)+ ' Studenten auseinander')\n",
    "\n",
    "\n",
    "jahre, monate, tage = jahre_in_jahre_monate_tage(jahres_float)\n",
    "\n",
    "# Verwende einen f-String für die Ausgabe\n",
    "print(f\"Zwischen unserer Immatrikulation liegen anscheinend {jahre} Jahre, {monate} Monate und {tage} Tage.\")"
   ]
  },
  {
   "cell_type": "markdown",
   "metadata": {},
   "source": [
    "Die nachfolgende Zelle soll nicht verändert werden. Sie enthält einen Plausibilitätstest, der den geschriebenen Code überprüft. Solche Code-Zellen werden Sie in den HAs immer wieder mal finden; lassen Sie sich davon nicht abschrecken bzw. erst dann, wenn beim Ausführen der Zelle eine Fehlermeldung erscheint. Wird die Zelle *ohne* Fehlermeldung ausgeführt, bedeutet das im Umkehrschluss jedoch *nicht*, dass ihr Programmcode auf jeden Fall fehlerfrei ist -- es ist lediglich ein erster Indiz."
   ]
  },
  {
   "cell_type": "code",
   "execution_count": null,
   "metadata": {
    "deletable": false,
    "editable": false,
    "tags": []
   },
   "outputs": [],
   "source": [
    "# Hier ist mal ein einfacher Test, ob überhaupt was programmiert wurde:\n",
    "assert delta_t is not None # <- das verursacht eine Fehlermeldung, wenn delta_t doch noch None ist"
   ]
  },
  {
   "cell_type": "markdown",
   "metadata": {},
   "source": [
    "**3) Schreiben Sie einen kurzen Programmabschnitt, der eine Zeichenkette `zeichenkette` erzeugt, die so lang ist wie die Namen der Gruppenmitglieder (ohne Leerzeichen), aber als Zeichen anstelle der beiden Namen die letzten 2 Ziffern der Gruppennummer enthält.** Vermeiden Sie es, die Länge der Namen selbst auszuzählen oder die Ziffern der Gruppenzahl wiederholt einzutippen.\n",
    "\n",
    "Beispiel für eine Gruppe \"391\":\n",
    "```python\n",
    "name1 = \"AlanTuring\"\n",
    "name2 = \"MargaretHamilton\"\n",
    "```\n",
    "Gewünschtes Ergebnis:`'99999999991111111111111111'`\n"
   ]
  },
  {
   "cell_type": "code",
   "execution_count": 49,
   "metadata": {},
   "outputs": [
    {
     "name": "stdout",
     "output_type": "stream",
     "text": [
      "Länge des Strings ohne Leerzeichen: 24\n",
      "Random String mit Länge 24: 2&]NIc2<P-b2F!_nY3qJ@l'(\n"
     ]
    }
   ],
   "source": [
    "import random\n",
    "import string\n",
    "\n",
    "def length_without_spaces(input_string):\n",
    "    # Entferne alle Leerzeichen\n",
    "    string_without_spaces = input_string.replace(\" \", \"\")\n",
    "    # Gib die Länge des Strings ohne Leerzeichen zurück\n",
    "    return len(string_without_spaces)\n",
    "\n",
    "def generate_random_string(length):\n",
    "    # Wähle zufällige Zeichen aus Großbuchstaben, Kleinbuchstaben, Ziffern und Sonderzeichen\n",
    "    characters = string.ascii_letters + string.digits + string.punctuation\n",
    "    # Generiere einen zufälligen String der gewünschten Länge\n",
    "    random_string = ''.join(random.choice(characters) for _ in range(length))\n",
    "    return random_string\n",
    "\n",
    "# Beispiel für unsere Objekte von Oben\n",
    "test_string = student1.name+student2.name\n",
    "length = length_without_spaces(test_string)\n",
    "print(f\"Länge des Strings ohne Leerzeichen: {length}\")\n",
    "\n",
    "random_string = generate_random_string(length)\n",
    "print(f\"Random String mit Länge {length}: {random_string}\")\n",
    "\n",
    "zeichenkette = random_string # <- Den Inhalt dieser Variable sollten Sie im folgenden ersetzen / überschreiben.\n",
    "# Hier eigenen Code schreiben .."
   ]
  },
  {
   "cell_type": "code",
   "execution_count": 50,
   "metadata": {
    "deletable": false,
    "editable": false,
    "tags": []
   },
   "outputs": [
    {
     "ename": "AssertionError",
     "evalue": "",
     "output_type": "error",
     "traceback": [
      "\u001b[1;31m---------------------------------------------------------------------------\u001b[0m",
      "\u001b[1;31mAssertionError\u001b[0m                            Traceback (most recent call last)",
      "Cell \u001b[1;32mIn[50], line 2\u001b[0m\n\u001b[0;32m      1\u001b[0m \u001b[38;5;66;03m# Hier ist ein Test, der überprüft, ob das Ergebnis so viele Zeichen hat wie beide Namen zusammen:\u001b[39;00m\n\u001b[1;32m----> 2\u001b[0m \u001b[38;5;28;01massert\u001b[39;00m \u001b[38;5;28mlen\u001b[39m(zeichenkette) \u001b[38;5;241m==\u001b[39m \u001b[38;5;28mlen\u001b[39m(name1) \u001b[38;5;241m+\u001b[39m \u001b[38;5;28mlen\u001b[39m(name2)\n",
      "\u001b[1;31mAssertionError\u001b[0m: "
     ]
    }
   ],
   "source": [
    "# Hier ist ein Test, der überprüft, ob das Ergebnis so viele Zeichen hat wie beide Namen zusammen:\n",
    "assert len(zeichenkette) == len(name1) + len(name2)"
   ]
  },
  {
   "cell_type": "code",
   "execution_count": null,
   "metadata": {},
   "outputs": [],
   "source": []
  }
 ],
 "metadata": {
  "kernelspec": {
   "display_name": "Python 3 (ipykernel)",
   "language": "python",
   "name": "python3"
  },
  "language_info": {
   "codemirror_mode": {
    "name": "ipython",
    "version": 3
   },
   "file_extension": ".py",
   "mimetype": "text/x-python",
   "name": "python",
   "nbconvert_exporter": "python",
   "pygments_lexer": "ipython3",
   "version": "3.12.3"
  }
 },
 "nbformat": 4,
 "nbformat_minor": 4
}
